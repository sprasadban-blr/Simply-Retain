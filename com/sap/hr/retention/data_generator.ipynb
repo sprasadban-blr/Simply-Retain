{
 "cells": [
  {
   "cell_type": "code",
   "execution_count": 1,
   "metadata": {},
   "outputs": [],
   "source": [
    "import seaborn as sns\n",
    "import pandas as pd\n",
    "import matplotlib.pyplot as plt\n",
    "import numpy as np\n",
    "import matplotlib as mpl\n",
    "import scipy\n",
    "import pandocfilters\n",
    "%matplotlib inline"
   ]
  },
  {
   "cell_type": "code",
   "execution_count": 2,
   "metadata": {},
   "outputs": [
    {
     "data": {
      "text/plain": [
       "Index(['ID', 'Gender', 'MaritalStatus', 'Education', 'CommuteDistance',\n",
       "       'PerformanceRating', 'PercentSalaryHike', 'MonthlyIncome',\n",
       "       'StockOptionLevel', 'CompanyProfit', 'Department', 'BusinessTravel',\n",
       "       'YearsWithCurrentManager', 'YearsSinceLastPromotion', 'JobSatisfaction',\n",
       "       'EnvironmentSatisfaction', 'TrainingHoursLastYear', 'TotalWorkingYears',\n",
       "       'YearsInCurrentRole', 'YearsAtCompany', 'NumbersCompaniesWorked',\n",
       "       'WorkLifeBal', 'JobLevel', 'Attrition', 'ReasonToManager',\n",
       "       'ReasonInExitInterview'],\n",
       "      dtype='object')"
      ]
     },
     "execution_count": 2,
     "metadata": {},
     "output_type": "execute_result"
    }
   ],
   "source": [
    "all_columns = pd.read_excel(\"all_final_features.xlsx\")\n",
    "all_columns.columns"
   ]
  },
  {
   "cell_type": "markdown",
   "metadata": {},
   "source": [
    "## Data Patterns"
   ]
  },
  {
   "cell_type": "markdown",
   "metadata": {},
   "source": [
    "### Millennial"
   ]
  },
  {
   "cell_type": "code",
   "execution_count": 86,
   "metadata": {},
   "outputs": [],
   "source": [
    "## Field Bounds ##\n",
    "num_samples = 7000\n",
    "\n",
    "age = \"Millennial\"\n",
    "\n",
    "attrition_val = [\"Yes\", \"No\"]\n",
    "attrition_rate = 0.45\n",
    "\n",
    "\n",
    "#Age Dependent\n",
    "\n",
    "##interrelated\n",
    "job_title = [\"Associate Developer\", \"Developer\"]\n",
    "monthly_income =[ [40000, 50000], [45000, 60000]]\n",
    "experience_company = [np.arange(0,4), np.arange(0, 7)]\n",
    "curr_role = [np.arange(0,4), np.arange(0,4)] # less than experience_company\n",
    "promotion_time = [np.arange(0,2), np.arange(0,4)] # less than experience_company\n",
    "curr_manager =  [np.arange(0,4),np.arange(0,4)] # less than experience_company\n",
    "stock_levels = [np.arange(0,2), np.arange(0,2)]\n",
    "salary_hike = [np.arange(12,21), np.arange(10,19)]\n",
    "experience = [np.arange(0,4), np.arange(0, 9)] #more than experience_company\n",
    "num_companies = [np.arange(1,3), np.arange(1,5)]\n",
    "travel = [np.arange(1), np.arange(0,2)]\n",
    "\n",
    "## common in same age \n",
    "form_values = np.arange(1,6)\n",
    "form_values_prob = [0.3,0.1,0.2,0.1,0.3]\n",
    "form_fields = ['JobSatisfaction','EnvironmentSatisfaction','WorkLifeBal']\n",
    "training_times = np.arange(2,6)\n",
    "training_times_prob = [0.15,0.25,0.2,0.4]\n",
    "gender_prob = [0.5,0.5]\n",
    "marital_status = ['Married', 'Single', 'Divorced']\n",
    "marital_status_prob = [0.3,0.7,0]\n",
    "education_prob = [0.1,0.9,0,0]\n",
    "per_prob = [0,0,0.45,0.25,0.3]\n",
    "commute_distance_prob = [0.6,0.3,0.1,0]\n",
    "\n",
    "#Common Parameters\n",
    "dept = ['Development', 'Testing', 'DevOps', 'Product Management', 'People Management', 'HR', 'Sales', 'Public Relations'\n",
    "        ,'Consultancy', 'Training']\n",
    "company_profit = np.arange(-2,2)\n",
    "gender = ['Male', 'Female']\n",
    "education = [\"Under-Graduate\",\"Graduate\",\"Post-Graduate\", \"Doctorate\"]\n",
    "commute_distance = np.arange(1,5)\n",
    "perf_rating = np.arange(1,6)\n",
    "\n",
    "# Attrition yes\n",
    "patterns = pd.read_excel(\"all_final_features.xlsx\", sheet_name=\"millennial_patterns\")\n",
    "reasons = patterns[[\"ReasonToManager\", \"ReasonInExitInterview\"]] \n",
    "reason_manager = np.array(reasons[\"ReasonToManager\"])\n",
    "reason_manager = reason_manager.tolist()\n",
    "reason_exit = np.array(reasons[\"ReasonInExitInterview\"])\n",
    "reason_exit = reason_exit.tolist()\n",
    "reasons_prob = [0.4,0.3,0.3]"
   ]
  },
  {
   "cell_type": "markdown",
   "metadata": {},
   "source": [
    "### GenX"
   ]
  },
  {
   "cell_type": "code",
   "execution_count": 37,
   "metadata": {},
   "outputs": [],
   "source": [
    "## Field Bounds ##\n",
    "num_samples = 7000\n",
    "\n",
    "age = \"Genx\"\n",
    "\n",
    "attrition_val = [\"Yes\", \"No\"]\n",
    "attrition_rate = 0.4\n",
    "\n",
    "\n",
    "#Age Dependent\n",
    "\n",
    "##interrelated\n",
    "job_title = [\"Developer\", \"Consultant\", \"Senior Developer\", \"Senior Consultant\"]\n",
    "monthly_income =[ [45000, 60000], [45000, 60000], [55000, 85000], [55000, 85000]]\n",
    "experience_company = [np.arange(0,8),np.arange(0,8), np.arange(0, 10), np.arange(0, 10)]\n",
    "curr_role = [np.arange(3,8), np.arange(3,8), np.arange(2,5), np.arange(2,5)] # less than experience_company\n",
    "promotion_time = [np.arange(0,3), np.arange(0,3), np.arange(0,6), np.arange(0,6)] # less than experience_company\n",
    "curr_manager =  [np.arange(0,4), np.arange(0,4), np.arange(0,6), np.arange(0,6)] # less than experience_company\n",
    "stock_levels = [np.arange(1,3), np.arange(1,3), np.arange(2,3), np.arange(2,3)]\n",
    "salary_hike = [np.arange(12,19), np.arange(12,19), np.arange(10,15), np.arange(10,15)]\n",
    "experience = [np.arange(5,10), np.arange(5,10), np.arange(8,13), np.arange(8,13)] #more than experience_company\n",
    "num_companies = [np.arange(0,5), np.arange(0,5), np.arange(1,5), np.arange(1,5)]\n",
    "travel = [np.arange(1,2), np.arange(1,2), np.arange(2,3), np.arange(2,3)]\n",
    "\n",
    "## common in same age \n",
    "form_values = np.arange(1,6)\n",
    "form_values_prob = [0.2,0.1,0.3,0.3,0.1]\n",
    "form_fields = ['JobSatisfaction','EnvironmentSatisfaction','WorkLifeBal']\n",
    "training_times = np.arange(1,5)\n",
    "training_times_prob = [0.25,0.3,0.3,0.15]\n",
    "gender_prob = [0.6,0.4]\n",
    "marital_status = ['Married', 'Single', 'Divorced']\n",
    "marital_status_prob = [0.6,0.3,0.1]\n",
    "education_prob = [0,0.6,0.4,0]\n",
    "per_prob = [0,0,0.4,0.35,0.25]\n",
    "commute_distance_prob = [0.3,0.35,0.15,0.2]\n",
    "\n",
    "#Common Parameters\n",
    "dept = ['Development', 'Testing', 'DevOps', 'Product Management', 'People Management', 'HR', 'Sales', 'Public Relations'\n",
    "        ,'Consultancy', 'Training']\n",
    "company_profit = np.arange(-2,2) # Dependent on salary hike & attrition\n",
    "gender = ['Male', 'Female']\n",
    "education = [\"Under-Graduate\",\"Graduate\",\"Post-Graduate\", \"Doctorate\"]\n",
    "commute_distance = np.arange(1,5)\n",
    "perf_rating = np.arange(1,6)\n",
    "\n",
    "# Attrition yes\n",
    "patterns = pd.read_excel(\"all_final_features.xlsx\", sheet_name=\"genx_patterns\")\n",
    "reasons = patterns[[\"ReasonToManager\", \"ReasonInExitInterview\"]] \n",
    "reasons_prob = [0.4,0.3,0.3]"
   ]
  },
  {
   "cell_type": "code",
   "execution_count": 38,
   "metadata": {},
   "outputs": [
    {
     "data": {
      "text/html": [
       "<div>\n",
       "<style scoped>\n",
       "    .dataframe tbody tr th:only-of-type {\n",
       "        vertical-align: middle;\n",
       "    }\n",
       "\n",
       "    .dataframe tbody tr th {\n",
       "        vertical-align: top;\n",
       "    }\n",
       "\n",
       "    .dataframe thead th {\n",
       "        text-align: right;\n",
       "    }\n",
       "</style>\n",
       "<table border=\"1\" class=\"dataframe\">\n",
       "  <thead>\n",
       "    <tr style=\"text-align: right;\">\n",
       "      <th></th>\n",
       "      <th>ReasonToManager</th>\n",
       "      <th>ReasonInExitInterview</th>\n",
       "    </tr>\n",
       "  </thead>\n",
       "  <tbody>\n",
       "    <tr>\n",
       "      <th>0</th>\n",
       "      <td>Family Responsibilities</td>\n",
       "      <td>Rigid Maternity Policy</td>\n",
       "    </tr>\n",
       "    <tr>\n",
       "      <th>1</th>\n",
       "      <td>Growth</td>\n",
       "      <td>Better career opportunity</td>\n",
       "    </tr>\n",
       "    <tr>\n",
       "      <th>2</th>\n",
       "      <td>Business Travel</td>\n",
       "      <td>Business Travel</td>\n",
       "    </tr>\n",
       "  </tbody>\n",
       "</table>\n",
       "</div>"
      ],
      "text/plain": [
       "           ReasonToManager      ReasonInExitInterview\n",
       "0  Family Responsibilities     Rigid Maternity Policy\n",
       "1                   Growth  Better career opportunity\n",
       "2         Business Travel            Business Travel "
      ]
     },
     "execution_count": 38,
     "metadata": {},
     "output_type": "execute_result"
    }
   ],
   "source": [
    "reasons"
   ]
  },
  {
   "cell_type": "markdown",
   "metadata": {},
   "source": [
    "### BabyBoomers"
   ]
  },
  {
   "cell_type": "code",
   "execution_count": 5,
   "metadata": {},
   "outputs": [],
   "source": [
    "## Field Bounds ##\n",
    "num_samples = 7000\n",
    "\n",
    "age = \"BabyBoomers\"\n",
    "\n",
    "attrition_val = [\"Yes\", \"No\"]\n",
    "attrition_rate = 0.38\n",
    "\n",
    "\n",
    "#Age Dependent\n",
    "\n",
    "##interrelated\n",
    "job_title = [\"Senior Developer\", \"Product Manager\", \"Product Owner\", \"VP\"]\n",
    "monthly_income =[ [45000, 65000], [45000, 65000], [75000, 95000], [75000, 95000]]\n",
    "experience_company = [np.arange(5, 10), np.arange(8, 12), np.arange(9, 13), np.arange(10, 16)]\n",
    "curr_role = [np.arange(3,6), np.arange(3,8), np.arange(3,9), np.arange(3,12)] # less than experience_company\n",
    "promotion_time = [np.arange(4), np.arange(6), np.arange(6), np.arange(7)] # less than experience_company\n",
    "curr_manager =  [np.arange(4),np.arange(2,8),np.arange(2,8),np.arange(3,10)] # less than experience_company\n",
    "stock_levels = [np.arange(2,3), np.arange(2,3), np.arange(2,4), np.arange(2,4)]\n",
    "salary_hike = [np.arange(12,19), np.arange(8,13), np.arange(6,10), np.arange(6,10)]\n",
    "experience = [np.arange(8,21), np.arange(8,21), np.arange(8,21), np.arange(15,21)] #more than experience_company\n",
    "num_companies = [np.arange(1,5), np.arange(1,5), np.arange(2,5), np.arange(2,5)]\n",
    "travel = [np.arange(2,4), np.arange(2,4), np.arange(3,4), np.arange(3,4)]\n",
    "\n",
    "## common in same age \n",
    "form_values = np.arange(1,6)\n",
    "form_values_prob = [0.15,0.2,0.2,0.25,0.2]\n",
    "form_fields = ['JobSatisfaction','EnvironmentSatisfaction','WorkLifeBal']\n",
    "training_times = np.arange(1,5)\n",
    "training_times_prob = [0.3,0.25,0.15,0.3]\n",
    "gender_prob = [0.6,0.4]\n",
    "marital_status = ['Married', 'Single', 'Divorced']\n",
    "marital_status_prob = [0.75,0.15,0.1]\n",
    "education_prob = [0,0.5,0.4,0.1]\n",
    "per_prob = [0,0,0.4,0.35,0.25]\n",
    "commute_distance_prob = [0.2,0.25,0.25,0.3]\n",
    "\n",
    "#Common Parameters\n",
    "dept = ['Development', 'Testing', 'DevOps', 'Product Management', 'People Management', 'HR', 'Sales', 'Public Relations'\n",
    "        ,'Consultancy', 'Training']\n",
    "company_profit = np.arange(-2,2) # Dependent on salary hike & attrition\n",
    "gender = ['Male', 'Female']\n",
    "education = [\"Under-Graduate\",\"Graduate\",\"Post-Graduate\", \"Doctorate\"]\n",
    "commute_distance = np.arange(1,5)\n",
    "perf_rating = np.arange(1,6)"
   ]
  },
  {
   "cell_type": "markdown",
   "metadata": {},
   "source": [
    "## Generator Functions"
   ]
  },
  {
   "cell_type": "code",
   "execution_count": 87,
   "metadata": {},
   "outputs": [
    {
     "data": {
      "text/plain": [
       "Index(['ID', 'Gender', 'MaritalStatus', 'Education', 'CommuteDistance',\n",
       "       'PerformanceRating', 'PercentSalaryHike', 'MonthlyIncome',\n",
       "       'StockOptionLevel', 'CompanyProfit', 'Department', 'BusinessTravel',\n",
       "       'YearsWithCurrentManager', 'YearsSinceLastPromotion', 'JobSatisfaction',\n",
       "       'EnvironmentSatisfaction', 'TrainingHoursLastYear', 'TotalWorkingYears',\n",
       "       'YearsInCurrentRole', 'YearsAtCompany', 'NumbersCompaniesWorked',\n",
       "       'WorkLifeBal', 'JobLevel', 'Attrition', 'ReasonToManager',\n",
       "       'ReasonInExitInterview'],\n",
       "      dtype='object')"
      ]
     },
     "execution_count": 87,
     "metadata": {},
     "output_type": "execute_result"
    }
   ],
   "source": [
    "all_data = pd.read_excel(\"all_final_features.xlsx\",sheet_name=\"all_data\")\n",
    "all_data.columns"
   ]
  },
  {
   "cell_type": "code",
   "execution_count": 88,
   "metadata": {},
   "outputs": [],
   "source": [
    "def assign_attrition(u):\n",
    "    if(np.random.uniform() < attrition_rate):\n",
    "        return \"No\"\n",
    "    return \"Yes\"\n",
    "attrition_col = pd.Series(data = np.zeros(num_samples))\n",
    "all_data[\"Attrition\"] = attrition_col\n",
    "all_data[\"Attrition\"] = all_data[\"Attrition\"].apply(assign_attrition)"
   ]
  },
  {
   "cell_type": "code",
   "execution_count": 89,
   "metadata": {},
   "outputs": [],
   "source": [
    "attr_yes = all_data[all_data[\"Attrition\"] == \"Yes\"]\n",
    "attr_no = all_data[all_data[\"Attrition\"] == \"No\"]"
   ]
  },
  {
   "cell_type": "code",
   "execution_count": 90,
   "metadata": {},
   "outputs": [],
   "source": [
    "def assign_job_title(u):\n",
    "    return np.random.choice(job_title)\n",
    "all_data[\"JobLevel\"] = all_data[\"JobLevel\"].apply(assign_job_title)"
   ]
  },
  {
   "cell_type": "code",
   "execution_count": 91,
   "metadata": {},
   "outputs": [],
   "source": [
    "def assign_interrelated_job(x,z):\n",
    "    index = job_title.index(x)\n",
    "    return np.random.choice(z[index])"
   ]
  },
  {
   "cell_type": "code",
   "execution_count": 92,
   "metadata": {},
   "outputs": [],
   "source": [
    "interrelated_job = [stock_levels, salary_hike, promotion_time, num_companies, travel]\n",
    "all_data[\"StockOptionLevel\"] = all_data.apply(lambda row: assign_interrelated_job(row[\"JobLevel\"],stock_levels), axis=1)\n",
    "all_data[\"PercentSalaryHike\"] = all_data.apply(lambda row: assign_interrelated_job(row[\"JobLevel\"],salary_hike), axis=1)\n",
    "all_data[\"YearsSinceLastPromotion\"] = all_data.apply(lambda row: assign_interrelated_job(row[\"JobLevel\"],promotion_time), axis=1)\n",
    "all_data[\"NumbersCompaniesWorked\"] = all_data.apply(lambda row: assign_interrelated_job(row[\"JobLevel\"],num_companies), axis=1)\n",
    "all_data[\"BusinessTravel\"] = all_data.apply(lambda row: assign_interrelated_job(row[\"JobLevel\"],travel), axis=1)"
   ]
  },
  {
   "cell_type": "code",
   "execution_count": 93,
   "metadata": {},
   "outputs": [],
   "source": [
    "def assign_income(x):\n",
    "    index = job_title.index(x)\n",
    "    return np.random.choice(np.arange(monthly_income[index][0], monthly_income[index][1]))\n",
    "all_data[\"MonthlyIncome\"] = all_data[\"JobLevel\"].apply(assign_income)"
   ]
  },
  {
   "cell_type": "code",
   "execution_count": 94,
   "metadata": {},
   "outputs": [],
   "source": [
    "def assign_experience(x):\n",
    "    index = job_title.index(x)\n",
    "    return np.random.choice(experience[index])\n",
    "all_data[\"TotalWorkingYears\"] = all_data[\"JobLevel\"].apply(assign_experience)"
   ]
  },
  {
   "cell_type": "code",
   "execution_count": 95,
   "metadata": {},
   "outputs": [],
   "source": [
    "def assign_company(x,y):\n",
    "    index = job_title.index(x)\n",
    "    if(min(experience_company[index]) == min(y,max(experience_company[index]))):\n",
    "        return min(y,max(experience_company[index]))\n",
    "    else:\n",
    "        return np.random.choice(np.arange(min(experience_company[index]),min(y,max(experience_company[index]))))\n",
    "\n",
    "all_data[\"YearsAtCompany\"] = all_data.apply(lambda row: assign_company(row[\"JobLevel\"],row[\"TotalWorkingYears\"]),axis=1)"
   ]
  },
  {
   "cell_type": "code",
   "execution_count": 96,
   "metadata": {
    "scrolled": true
   },
   "outputs": [],
   "source": [
    "def assign_numcompanies(x,y,z):\n",
    "    if x == y:\n",
    "        return 1\n",
    "    else:\n",
    "        index = job_title.index(z)\n",
    "        return np.random.choice(num_companies[index])\n",
    "all_data[\"NumbersCompaniesWorked\"] = all_data.apply(lambda row: assign_numcompanies(row[\"YearsAtCompany\"],\n",
    "                                                                                    row[\"TotalWorkingYears\"],row[\"JobLevel\"]),axis=1)"
   ]
  },
  {
   "cell_type": "code",
   "execution_count": 97,
   "metadata": {},
   "outputs": [],
   "source": [
    "def assign_interrelated_yrscompany(x,y,z):\n",
    "    index = job_title.index(x)\n",
    "    u = np.random.choice(z[index])\n",
    "    if u < y or u == y:\n",
    "        return u\n",
    "    elif min(z[index]) == min(y,max(z[index])):\n",
    "        return min(z[index])\n",
    "    else:\n",
    "        return np.random.choice(np.arange(min(z[index]),min(y,max(z[index]))))\n",
    "all_data[\"YearsWithCurrentManager\"] = all_data.apply(lambda row: assign_interrelated_yrscompany(row[\"JobLevel\"],\n",
    "                                                                      row[\"YearsAtCompany\"], curr_manager), axis=1)\n",
    "all_data[\"YearsInCurrentRole\"] = all_data.apply(lambda row: assign_interrelated_yrscompany(row[\"JobLevel\"],\n",
    "                                                                      row[\"YearsAtCompany\"], curr_role), axis=1)\n",
    "all_data[\"YearsSinceLastPromotion\"] = all_data.apply(lambda row: assign_interrelated_yrscompany(row[\"JobLevel\"],\n",
    "                                                                      row[\"YearsAtCompany\"], promotion_time), axis=1)"
   ]
  },
  {
   "cell_type": "code",
   "execution_count": 98,
   "metadata": {
    "scrolled": true
   },
   "outputs": [],
   "source": [
    "def prob_fields(values,prob):\n",
    "    return np.random.choice(a=values,p=prob)\n",
    "all_data['JobSatisfaction'] = all_data.apply(lambda row: prob_fields(form_values,form_values_prob), axis=1)\n",
    "all_data['EnvironmentSatisfaction'] = all_data.apply(lambda row: prob_fields(form_values,form_values_prob), axis=1)\n",
    "all_data['WorkLifeBal'] = all_data.apply(lambda row: prob_fields(form_values,form_values_prob), axis=1)\n",
    "all_data['TrainingHoursLastYear'] = all_data.apply(lambda row: prob_fields(training_times,training_times_prob), axis=1)\n",
    "all_data['Gender'] = all_data.apply(lambda row: prob_fields(gender,gender_prob), axis=1)\n",
    "all_data['MaritalStatus'] = all_data.apply(lambda row: prob_fields(marital_status,marital_status_prob), axis=1)\n",
    "all_data['Education'] = all_data.apply(lambda row: prob_fields(education,education_prob), axis=1)\n",
    "all_data['PerformanceRating'] = all_data.apply(lambda row: prob_fields(form_values,per_prob), axis=1)\n",
    "all_data['CommuteDistance'] = all_data.apply(lambda row: prob_fields(commute_distance,commute_distance_prob), axis=1)"
   ]
  },
  {
   "cell_type": "code",
   "execution_count": 99,
   "metadata": {},
   "outputs": [],
   "source": [
    "def assign_companyprofit(x):\n",
    "    return np.random.choice(company_profit)\n",
    "all_data[\"CompanyProfit\"] = all_data[\"CompanyProfit\"].apply(assign_companyprofit)"
   ]
  },
  {
   "cell_type": "code",
   "execution_count": 100,
   "metadata": {},
   "outputs": [],
   "source": [
    "def assign_dept(x):\n",
    "    return np.random.choice(dept)\n",
    "all_data[\"Department\"] = all_data[\"Department\"].apply(assign_dept)"
   ]
  },
  {
   "cell_type": "code",
   "execution_count": 101,
   "metadata": {},
   "outputs": [
    {
     "name": "stderr",
     "output_type": "stream",
     "text": [
      "C:\\Users\\I349274\\AppData\\Local\\Continuum\\anaconda3\\lib\\site-packages\\ipykernel_launcher.py:8: SettingWithCopyWarning: \n",
      "A value is trying to be set on a copy of a slice from a DataFrame.\n",
      "Try using .loc[row_indexer,col_indexer] = value instead\n",
      "\n",
      "See the caveats in the documentation: http://pandas.pydata.org/pandas-docs/stable/indexing.html#indexing-view-versus-copy\n",
      "  \n",
      "C:\\Users\\I349274\\AppData\\Local\\Continuum\\anaconda3\\lib\\site-packages\\ipykernel_launcher.py:9: SettingWithCopyWarning: \n",
      "A value is trying to be set on a copy of a slice from a DataFrame.\n",
      "Try using .loc[row_indexer,col_indexer] = value instead\n",
      "\n",
      "See the caveats in the documentation: http://pandas.pydata.org/pandas-docs/stable/indexing.html#indexing-view-versus-copy\n",
      "  if __name__ == '__main__':\n"
     ]
    }
   ],
   "source": [
    "attr_no = all_data.loc[all_data[\"Attrition\"] == \"Yes\",:]\n",
    "\n",
    "def assign_reason_manager(x):\n",
    "    return np.random.choice(a=reason_manager,p=reasons_prob)\n",
    "def assign_reason_exit(x):\n",
    "    index = reason_manager.index(x)\n",
    "    return reason_exit[index]\n",
    "attr_no[\"ReasonToManager\"] = attr_no[\"ReasonToManager\"].apply(assign_reason_manager)\n",
    "attr_no[\"ReasonInExitInterview\"] = attr_no[\"ReasonToManager\"].apply(assign_reason_exit)\n",
    "\n",
    "all_data.loc[all_data[\"Attrition\"] == \"Yes\",:] = attr_no"
   ]
  },
  {
   "cell_type": "code",
   "execution_count": 102,
   "metadata": {},
   "outputs": [
    {
     "name": "stderr",
     "output_type": "stream",
     "text": [
      "C:\\Users\\I349274\\AppData\\Local\\Continuum\\anaconda3\\lib\\site-packages\\ipykernel_launcher.py:10: SettingWithCopyWarning: \n",
      "A value is trying to be set on a copy of a slice from a DataFrame.\n",
      "Try using .loc[row_indexer,col_indexer] = value instead\n",
      "\n",
      "See the caveats in the documentation: http://pandas.pydata.org/pandas-docs/stable/indexing.html#indexing-view-versus-copy\n",
      "  # Remove the CWD from sys.path while we load stuff.\n",
      "C:\\Users\\I349274\\AppData\\Local\\Continuum\\anaconda3\\lib\\site-packages\\ipykernel_launcher.py:14: SettingWithCopyWarning: \n",
      "A value is trying to be set on a copy of a slice from a DataFrame.\n",
      "Try using .loc[row_indexer,col_indexer] = value instead\n",
      "\n",
      "See the caveats in the documentation: http://pandas.pydata.org/pandas-docs/stable/indexing.html#indexing-view-versus-copy\n",
      "  \n",
      "C:\\Users\\I349274\\AppData\\Local\\Continuum\\anaconda3\\lib\\site-packages\\ipykernel_launcher.py:16: SettingWithCopyWarning: \n",
      "A value is trying to be set on a copy of a slice from a DataFrame.\n",
      "Try using .loc[row_indexer,col_indexer] = value instead\n",
      "\n",
      "See the caveats in the documentation: http://pandas.pydata.org/pandas-docs/stable/indexing.html#indexing-view-versus-copy\n",
      "  app.launch_new_instance()\n",
      "C:\\Users\\I349274\\AppData\\Local\\Continuum\\anaconda3\\lib\\site-packages\\pandas\\core\\indexing.py:543: SettingWithCopyWarning: \n",
      "A value is trying to be set on a copy of a slice from a DataFrame.\n",
      "Try using .loc[row_indexer,col_indexer] = value instead\n",
      "\n",
      "See the caveats in the documentation: http://pandas.pydata.org/pandas-docs/stable/indexing.html#indexing-view-versus-copy\n",
      "  self.obj[item] = s\n"
     ]
    }
   ],
   "source": [
    "#Reason 1: Repetitive task  Want Challenging task\n",
    "attr_perf_prob = [0,0,0,0.4,0.6]\n",
    "attr_job_prob = [0.1,0.3,0.5,0.1,0]\n",
    "# years in current role == years at company\n",
    "\n",
    "attr_no1 = attr_no[attr_no[\"ReasonToManager\"] == reason_manager[0]]\n",
    "\n",
    "def assign_attr_perf(x):\n",
    "    return np.random.choice(a=perf_rating,p=attr_perf_prob)\n",
    "attr_no1[\"PerformanceRating\"] = attr_no1[\"PerformanceRating\"].apply(assign_attr_perf)\n",
    "\n",
    "def assign_job_sat(x):\n",
    "    return np.random.choice(a=form_values, p=attr_job_prob)\n",
    "attr_no1[\"JobSatisfaction\"] = attr_no1[\"JobSatisfaction\"].apply(assign_job_sat)\n",
    "\n",
    "attr_no[attr_no[\"ReasonToManager\"] == reason_manager[0]] = attr_no1"
   ]
  },
  {
   "cell_type": "code",
   "execution_count": 103,
   "metadata": {},
   "outputs": [
    {
     "name": "stderr",
     "output_type": "stream",
     "text": [
      "C:\\Users\\I349274\\AppData\\Local\\Continuum\\anaconda3\\lib\\site-packages\\ipykernel_launcher.py:21: SettingWithCopyWarning: \n",
      "A value is trying to be set on a copy of a slice from a DataFrame.\n",
      "Try using .loc[row_indexer,col_indexer] = value instead\n",
      "\n",
      "See the caveats in the documentation: http://pandas.pydata.org/pandas-docs/stable/indexing.html#indexing-view-versus-copy\n",
      "C:\\Users\\I349274\\AppData\\Local\\Continuum\\anaconda3\\lib\\site-packages\\ipykernel_launcher.py:22: SettingWithCopyWarning: \n",
      "A value is trying to be set on a copy of a slice from a DataFrame.\n",
      "Try using .loc[row_indexer,col_indexer] = value instead\n",
      "\n",
      "See the caveats in the documentation: http://pandas.pydata.org/pandas-docs/stable/indexing.html#indexing-view-versus-copy\n",
      "C:\\Users\\I349274\\AppData\\Local\\Continuum\\anaconda3\\lib\\site-packages\\ipykernel_launcher.py:23: SettingWithCopyWarning: \n",
      "A value is trying to be set on a copy of a slice from a DataFrame.\n",
      "Try using .loc[row_indexer,col_indexer] = value instead\n",
      "\n",
      "See the caveats in the documentation: http://pandas.pydata.org/pandas-docs/stable/indexing.html#indexing-view-versus-copy\n",
      "C:\\Users\\I349274\\AppData\\Local\\Continuum\\anaconda3\\lib\\site-packages\\ipykernel_launcher.py:24: SettingWithCopyWarning: \n",
      "A value is trying to be set on a copy of a slice from a DataFrame.\n",
      "Try using .loc[row_indexer,col_indexer] = value instead\n",
      "\n",
      "See the caveats in the documentation: http://pandas.pydata.org/pandas-docs/stable/indexing.html#indexing-view-versus-copy\n",
      "C:\\Users\\I349274\\AppData\\Local\\Continuum\\anaconda3\\lib\\site-packages\\ipykernel_launcher.py:25: SettingWithCopyWarning: \n",
      "A value is trying to be set on a copy of a slice from a DataFrame.\n",
      "Try using .loc[row_indexer,col_indexer] = value instead\n",
      "\n",
      "See the caveats in the documentation: http://pandas.pydata.org/pandas-docs/stable/indexing.html#indexing-view-versus-copy\n",
      "C:\\Users\\I349274\\AppData\\Local\\Continuum\\anaconda3\\lib\\site-packages\\pandas\\core\\indexing.py:543: SettingWithCopyWarning: \n",
      "A value is trying to be set on a copy of a slice from a DataFrame.\n",
      "Try using .loc[row_indexer,col_indexer] = value instead\n",
      "\n",
      "See the caveats in the documentation: http://pandas.pydata.org/pandas-docs/stable/indexing.html#indexing-view-versus-copy\n",
      "  self.obj[item] = s\n"
     ]
    }
   ],
   "source": [
    "#Reason 2: Family Responsibilities Rigid Maternity Policy\n",
    "attr_gender = \"Female\"\n",
    "attr_marital_status = \"Married\"\n",
    "attr_job_prob = [0,0,0.2,0.5,0.3]\n",
    "attr_perf_prob = [0,0.1,0.4,0.4,0.1]\n",
    "\n",
    "attr_no2 = attr_no[attr_no[\"ReasonToManager\"] == reason_manager[1]]\n",
    "\n",
    "def assign_attr_gender(x):\n",
    "    return attr_gender\n",
    "\n",
    "def assign_attr_marital(x):\n",
    "    return attr_marital_status\n",
    "\n",
    "def assign_attr_perf(x):\n",
    "    return np.random.choice(a=perf_rating,p=attr_perf_prob)\n",
    "\n",
    "def assign_attr_job(x):\n",
    "    return np.random.choice(a=form_values, p=attr_job_prob)\n",
    "\n",
    "attr_no2[\"Gender\"] = attr_no2[\"Gender\"].apply(assign_attr_gender)\n",
    "attr_no2[\"MaritalStatus\"] = attr_no2[\"MaritalStatus\"].apply(assign_attr_marital)\n",
    "attr_no2[\"PerformanceRating\"] = attr_no2[\"PerformanceRating\"].apply(assign_attr_perf)\n",
    "attr_no2[\"JobSatisfaction\"] = attr_no2[\"JobSatisfaction\"].apply(assign_attr_job)\n",
    "attr_no[attr_no[\"ReasonToManager\"] == reason_manager[1]] = attr_no2"
   ]
  },
  {
   "cell_type": "code",
   "execution_count": 104,
   "metadata": {},
   "outputs": [
    {
     "name": "stderr",
     "output_type": "stream",
     "text": [
      "C:\\Users\\I349274\\AppData\\Local\\Continuum\\anaconda3\\lib\\site-packages\\ipykernel_launcher.py:10: SettingWithCopyWarning: \n",
      "A value is trying to be set on a copy of a slice from a DataFrame.\n",
      "Try using .loc[row_indexer,col_indexer] = value instead\n",
      "\n",
      "See the caveats in the documentation: http://pandas.pydata.org/pandas-docs/stable/indexing.html#indexing-view-versus-copy\n",
      "  # Remove the CWD from sys.path while we load stuff.\n",
      "C:\\Users\\I349274\\AppData\\Local\\Continuum\\anaconda3\\lib\\site-packages\\ipykernel_launcher.py:14: SettingWithCopyWarning: \n",
      "A value is trying to be set on a copy of a slice from a DataFrame.\n",
      "Try using .loc[row_indexer,col_indexer] = value instead\n",
      "\n",
      "See the caveats in the documentation: http://pandas.pydata.org/pandas-docs/stable/indexing.html#indexing-view-versus-copy\n",
      "  \n",
      "C:\\Users\\I349274\\AppData\\Local\\Continuum\\anaconda3\\lib\\site-packages\\ipykernel_launcher.py:18: SettingWithCopyWarning: \n",
      "A value is trying to be set on a copy of a slice from a DataFrame.\n",
      "Try using .loc[row_indexer,col_indexer] = value instead\n",
      "\n",
      "See the caveats in the documentation: http://pandas.pydata.org/pandas-docs/stable/indexing.html#indexing-view-versus-copy\n",
      "C:\\Users\\I349274\\AppData\\Local\\Continuum\\anaconda3\\lib\\site-packages\\ipykernel_launcher.py:19: SettingWithCopyWarning: \n",
      "A value is trying to be set on a copy of a slice from a DataFrame.\n",
      "Try using .loc[row_indexer,col_indexer] = value instead\n",
      "\n",
      "See the caveats in the documentation: http://pandas.pydata.org/pandas-docs/stable/indexing.html#indexing-view-versus-copy\n",
      "C:\\Users\\I349274\\AppData\\Local\\Continuum\\anaconda3\\lib\\site-packages\\pandas\\core\\indexing.py:543: SettingWithCopyWarning: \n",
      "A value is trying to be set on a copy of a slice from a DataFrame.\n",
      "Try using .loc[row_indexer,col_indexer] = value instead\n",
      "\n",
      "See the caveats in the documentation: http://pandas.pydata.org/pandas-docs/stable/indexing.html#indexing-view-versus-copy\n",
      "  self.obj[item] = s\n"
     ]
    }
   ],
   "source": [
    "#Reason 3: Technology Higher studies\n",
    "attr_training_prob = [0,0.1,0.4,0.5]\n",
    "attr_perf_prob = [0,0,0,0.3,0.7]\n",
    "attr_marital_status = \"Single\"\n",
    "\n",
    "attr_no3 = attr_no[attr_no[\"ReasonToManager\"] == reason_manager[2]]\n",
    "\n",
    "def assign_attr_training(x):\n",
    "    return np.random.choice(a=training_times,p=attr_training_prob)\n",
    "attr_no3[\"TrainingHoursLastYear\"] = attr_no3[\"TrainingHoursLastYear\"].apply(assign_attr_training)\n",
    "\n",
    "def assign_attr_perf(x):\n",
    "    return np.random.choice(a=perf_rating,p=attr_perf_prob)\n",
    "attr_no3[\"PerformanceRating\"] = attr_no3[\"PerformanceRating\"].apply(assign_attr_perf)\n",
    "\n",
    "def assign_attr_marital(x):\n",
    "    return attr_marital_status\n",
    "attr_no3[\"MaritalStatus\"] = attr_no3[\"MaritalStatus\"].apply(assign_attr_marital)\n",
    "attr_no[attr_no[\"ReasonToManager\"] == reason_manager[2]] = attr_no3"
   ]
  },
  {
   "cell_type": "code",
   "execution_count": 105,
   "metadata": {},
   "outputs": [],
   "source": [
    "all_data.loc[all_data[\"Attrition\"] == \"Yes\",:] = attr_no"
   ]
  },
  {
   "cell_type": "code",
   "execution_count": 106,
   "metadata": {},
   "outputs": [],
   "source": [
    "all_data.to_excel(\"ttt.xlsx\")"
   ]
  },
  {
   "cell_type": "code",
   "execution_count": null,
   "metadata": {},
   "outputs": [],
   "source": []
  }
 ],
 "metadata": {
  "kernelspec": {
   "display_name": "Python 3",
   "language": "python",
   "name": "python3"
  },
  "language_info": {
   "codemirror_mode": {
    "name": "ipython",
    "version": 3
   },
   "file_extension": ".py",
   "mimetype": "text/x-python",
   "name": "python",
   "nbconvert_exporter": "python",
   "pygments_lexer": "ipython3",
   "version": "3.6.5"
  }
 },
 "nbformat": 4,
 "nbformat_minor": 2
}
